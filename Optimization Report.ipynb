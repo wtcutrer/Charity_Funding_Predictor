{
 "cells": [
  {
   "cell_type": "markdown",
   "metadata": {},
   "source": [
    "# Overview"
   ]
  },
  {
   "cell_type": "markdown",
   "metadata": {},
   "source": [
    "This analysis was intended to help the Alphabet Soup Charity create an algorithm to predict the most successful funding routes. T"
   ]
  },
  {
   "cell_type": "markdown",
   "metadata": {},
   "source": [
    "# Results "
   ]
  },
  {
   "cell_type": "markdown",
   "metadata": {},
   "source": [
    "### Data Processing"
   ]
  },
  {
   "cell_type": "markdown",
   "metadata": {},
   "source": [
    "The column IS_SUCCESSFUL is the main variable for this dataset and describes whether the donation was successful or not. This is the ultimate goal of the algorithm. "
   ]
  },
  {
   "cell_type": "markdown",
   "metadata": {},
   "source": [
    "APPLICATION_TYPE, CLASSIFICATION, USE_CASE, ORGANIZATION, STATUS, INCOME_AMT, SPECIAL_CONSIDERATIONS, ASK_AMT and AFFILIATION are all useful columns that can be used to add to the algorithm and calculate the chances of success."
   ]
  },
  {
   "cell_type": "markdown",
   "metadata": {},
   "source": [
    "The columns EIN and NAME are both used solely for identification purposes and are not adding value to the algorithm."
   ]
  },
  {
   "cell_type": "markdown",
   "metadata": {},
   "source": [
    "### Compiling, Training, and Evaluating the Model"
   ]
  },
  {
   "cell_type": "markdown",
   "metadata": {},
   "source": [
    "I tried multiple different methods in an attempt to optimize my model. My most successful model was a single layered \"relu\" model but made it go through 200 epochs. I was unable to get over 72% and was therefore unable to meet the perfomance goal. I attempted the model with different variations of layers (from 1-3) with epochs between 100-200 and with different types of neurons. Overall, my most successful model was the single layered \"relu\" model."
   ]
  },
  {
   "cell_type": "markdown",
   "metadata": {},
   "source": [
    "# Summary"
   ]
  },
  {
   "cell_type": "markdown",
   "metadata": {},
   "source": [
    "Overall, I think I was on the right track to optimizing the overall dataset. My highest rating was 72.69%. I think my next effort would be attempting to remove additional columns from the dataset in order to narrow down the model's focus. I think that with this particular dataset one (maybe two) layers are sufficient and any more would lead to overfitting the dataset. I would also play a bit more with the types of layers in order to see which would best fit this particular model. "
   ]
  }
 ],
 "metadata": {
  "kernelspec": {
   "display_name": "Python [conda env:PythonData] *",
   "language": "python",
   "name": "conda-env-PythonData-py"
  },
  "language_info": {
   "codemirror_mode": {
    "name": "ipython",
    "version": 3
   },
   "file_extension": ".py",
   "mimetype": "text/x-python",
   "name": "python",
   "nbconvert_exporter": "python",
   "pygments_lexer": "ipython3",
   "version": "3.6.10"
  }
 },
 "nbformat": 4,
 "nbformat_minor": 4
}
